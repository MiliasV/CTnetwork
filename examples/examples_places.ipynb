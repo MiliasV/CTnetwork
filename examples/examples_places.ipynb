{
 "cells": [
  {
   "cell_type": "code",
   "execution_count": 1,
   "id": "90406003",
   "metadata": {},
   "outputs": [
    {
     "name": "stderr",
     "output_type": "stream",
     "text": [
      "/usr/local/lib/python3.9/site-packages/geopandas/_compat.py:111: UserWarning: The Shapely GEOS version (3.8.0-CAPI-1.13.1 ) is incompatible with the GEOS version PyGEOS was compiled with (3.10.1-CAPI-1.16.0). Conversions between both will be slow.\n",
      "  warnings.warn(\n"
     ]
    }
   ],
   "source": [
    "from ctwalk import places\n"
   ]
  },
  {
   "cell_type": "code",
   "execution_count": 2,
   "id": "b58ad8ba",
   "metadata": {},
   "outputs": [
    {
     "data": {
      "text/html": [
       "<div>\n",
       "<style scoped>\n",
       "    .dataframe tbody tr th:only-of-type {\n",
       "        vertical-align: middle;\n",
       "    }\n",
       "\n",
       "    .dataframe tbody tr th {\n",
       "        vertical-align: top;\n",
       "    }\n",
       "\n",
       "    .dataframe thead th {\n",
       "        text-align: right;\n",
       "    }\n",
       "</style>\n",
       "<table border=\"1\" class=\"dataframe\">\n",
       "  <thead>\n",
       "    <tr style=\"text-align: right;\">\n",
       "      <th></th>\n",
       "      <th>geometry</th>\n",
       "      <th>type</th>\n",
       "      <th>id</th>\n",
       "      <th>tags</th>\n",
       "      <th>nodes</th>\n",
       "    </tr>\n",
       "  </thead>\n",
       "  <tbody>\n",
       "    <tr>\n",
       "      <th>0</th>\n",
       "      <td>POINT (4.87319 52.37062)</td>\n",
       "      <td>node</td>\n",
       "      <td>268768172</td>\n",
       "      <td>{'leisure': 'playground', 'wheelchair': 'yes'}</td>\n",
       "      <td>NaN</td>\n",
       "    </tr>\n",
       "    <tr>\n",
       "      <th>1</th>\n",
       "      <td>POINT (4.90046 52.36109)</td>\n",
       "      <td>node</td>\n",
       "      <td>440673919</td>\n",
       "      <td>{'access': 'yes', 'leisure': 'playground', 'wh...</td>\n",
       "      <td>NaN</td>\n",
       "    </tr>\n",
       "    <tr>\n",
       "      <th>2</th>\n",
       "      <td>POINT (4.88881 52.38222)</td>\n",
       "      <td>node</td>\n",
       "      <td>1222424031</td>\n",
       "      <td>{'leisure': 'playground'}</td>\n",
       "      <td>NaN</td>\n",
       "    </tr>\n",
       "    <tr>\n",
       "      <th>3</th>\n",
       "      <td>POINT (4.87577 52.36660)</td>\n",
       "      <td>node</td>\n",
       "      <td>1242995317</td>\n",
       "      <td>{'leisure': 'playground'}</td>\n",
       "      <td>NaN</td>\n",
       "    </tr>\n",
       "    <tr>\n",
       "      <th>4</th>\n",
       "      <td>POINT (4.89606 52.36905)</td>\n",
       "      <td>node</td>\n",
       "      <td>1704398372</td>\n",
       "      <td>{'leisure': 'playground'}</td>\n",
       "      <td>NaN</td>\n",
       "    </tr>\n",
       "  </tbody>\n",
       "</table>\n",
       "</div>"
      ],
      "text/plain": [
       "                   geometry  type          id  \\\n",
       "0  POINT (4.87319 52.37062)  node   268768172   \n",
       "1  POINT (4.90046 52.36109)  node   440673919   \n",
       "2  POINT (4.88881 52.38222)  node  1222424031   \n",
       "3  POINT (4.87577 52.36660)  node  1242995317   \n",
       "4  POINT (4.89606 52.36905)  node  1704398372   \n",
       "\n",
       "                                                tags nodes  \n",
       "0     {'leisure': 'playground', 'wheelchair': 'yes'}   NaN  \n",
       "1  {'access': 'yes', 'leisure': 'playground', 'wh...   NaN  \n",
       "2                          {'leisure': 'playground'}   NaN  \n",
       "3                          {'leisure': 'playground'}   NaN  \n",
       "4                          {'leisure': 'playground'}   NaN  "
      ]
     },
     "execution_count": 2,
     "metadata": {},
     "output_type": "execute_result"
    }
   ],
   "source": [
    "rad = 1500\n",
    "lat_lon = '52.373199818645645, 4.892693557537863'\n",
    "osm_places =  places.get_osm_places_within_buffer('leisure=playground', lat_lon, radius= rad)\n",
    "city = 'amsterdam' + str(rad)\n",
    "osm_places.head()"
   ]
  },
  {
   "cell_type": "code",
   "execution_count": null,
   "id": "da4587bd",
   "metadata": {},
   "outputs": [],
   "source": []
  }
 ],
 "metadata": {
  "kernelspec": {
   "display_name": "Python 3 (ipykernel)",
   "language": "python",
   "name": "python3"
  },
  "language_info": {
   "codemirror_mode": {
    "name": "ipython",
    "version": 3
   },
   "file_extension": ".py",
   "mimetype": "text/x-python",
   "name": "python",
   "nbconvert_exporter": "python",
   "pygments_lexer": "ipython3",
   "version": "3.9.7"
  }
 },
 "nbformat": 4,
 "nbformat_minor": 5
}
